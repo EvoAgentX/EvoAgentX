{
 "cells": [
  {
   "cell_type": "code",
   "execution_count": 1,
   "metadata": {},
   "outputs": [],
   "source": [
    "import os\n",
    "os.chdir(\"/Users/zengrh/Sun-Yat-Sen/code/EvoAgentX\")"
   ]
  },
  {
   "cell_type": "code",
   "execution_count": 2,
   "metadata": {},
   "outputs": [],
   "source": [
    "from evoagentx.models.siliconflow_model import SiliconFlow\n",
    "from evoagentx.models.model_configs import SiliconFlowConfig"
   ]
  },
  {
   "cell_type": "code",
   "execution_count": 5,
   "metadata": {},
   "outputs": [
    {
     "name": "stdout",
     "output_type": "stream",
     "text": [
      "Hello! I'm an AI language model created by OpenAI, designed to assist with answering questions, providing explanations, generating ideas, and engaging in conversations on a wide range of topics. You can think of me as a virtual assistant for information and text-based tasks. How can I help you today? 😊\n"
     ]
    },
    {
     "data": {
      "text/plain": [
       "\"Hello! I'm an AI language model created by OpenAI, designed to assist with answering questions, providing explanations, generating ideas, and engaging in conversations on a wide range of topics. You can think of me as a virtual assistant for information and text-based tasks. How can I help you today? 😊\""
      ]
     },
     "execution_count": 5,
     "metadata": {},
     "output_type": "execute_result"
    }
   ],
   "source": [
    "siliconflow_api_key = \"sk-vhxzxtorlkllodmmcthkhjiidjvnkkgpaliydwrdkrqzilpw\"\n",
    "\n",
    "model = SiliconFlow(config=SiliconFlowConfig(siliconflow_key=siliconflow_api_key,\n",
    "                                             model=\"deepseek-ai/DeepSeek-V3\"))\n",
    "\n",
    "model.init_model()\n",
    "\n",
    "\n",
    "model.single_generate(messages=[{'role': 'user', \n",
    "                                 'content': \"Hello, who are you?\"}],\n",
    "                     stream=True)\n",
    "# model.generate_text(\"Hello, how are you?\")"
   ]
  },
  {
   "cell_type": "code",
   "execution_count": 6,
   "metadata": {},
   "outputs": [
    {
     "data": {
      "text/plain": [
       "{'prompt_tokens': 9, 'completion_tokens': 61, 'total_tokens': 70}"
      ]
     },
     "execution_count": 6,
     "metadata": {},
     "output_type": "execute_result"
    }
   ],
   "source": [
    "model.get_cost()"
   ]
  },
  {
   "cell_type": "code",
   "execution_count": 4,
   "metadata": {},
   "outputs": [
    {
     "data": {
      "text/plain": [
       "{'prompt_tokens': 9, 'completion_tokens': 44, 'total_tokens': 53}"
      ]
     },
     "execution_count": 4,
     "metadata": {},
     "output_type": "execute_result"
    }
   ],
   "source": [
    "model.get_cost()"
   ]
  },
  {
   "cell_type": "code",
   "execution_count": 8,
   "metadata": {},
   "outputs": [
    {
     "name": "stdout",
     "output_type": "stream",
     "text": [
      "Hello! I'm an AI created by OpenAI, here to assist with answering questions, providing explanations, and helping with a wide range of topics. Feel free to ask me anything—I'm here to help! 😊"
     ]
    }
   ],
   "source": [
    "from openai import OpenAI\n",
    "import requests\n",
    "\n",
    "siliconflow_api_key = \"sk-vhxzxtorlkllodmmcthkhjiidjvnkkgpaliydwrdkrqzilpw\"\n",
    "\n",
    "client = OpenAI(api_key=siliconflow_api_key, base_url=\"https://api.siliconflow.cn/v1\")\n",
    "response = client.chat.completions.create(\n",
    "    model='deepseek-ai/DeepSeek-V3',\n",
    "    messages=[\n",
    "        {'role': 'user', \n",
    "        'content': \"Hello, who are you?\"}\n",
    "    ],\n",
    "    stream=True\n",
    ")\n",
    "\n",
    "for chunk in response:\n",
    "    print(chunk.choices[0].delta.content, end='')"
   ]
  },
  {
   "cell_type": "code",
   "execution_count": null,
   "metadata": {},
   "outputs": [],
   "source": []
  }
 ],
 "metadata": {
  "kernelspec": {
   "display_name": "memgpt",
   "language": "python",
   "name": "python3"
  },
  "language_info": {
   "codemirror_mode": {
    "name": "ipython",
    "version": 3
   },
   "file_extension": ".py",
   "mimetype": "text/x-python",
   "name": "python",
   "nbconvert_exporter": "python",
   "pygments_lexer": "ipython3",
   "version": "3.10.14"
  }
 },
 "nbformat": 4,
 "nbformat_minor": 2
}
