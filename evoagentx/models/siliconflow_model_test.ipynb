{
 "cells": [
  {
   "cell_type": "code",
   "execution_count": 1,
   "metadata": {},
   "outputs": [],
   "source": [
    "import os\n",
    "os.chdir(\"/Users/zengrh/Sun-Yat-Sen/code/EvoAgentX\")"
   ]
  },
  {
   "cell_type": "code",
   "execution_count": 2,
   "metadata": {},
   "outputs": [],
   "source": [
    "from evoagentx.models.siliconflow_model import SiliconFlow\n",
    "from evoagentx.models.model_configs import SiliconFlowConfig"
   ]
  },
  {
   "cell_type": "code",
   "execution_count": 4,
   "metadata": {},
   "outputs": [
    {
     "name": "stderr",
     "output_type": "stream",
     "text": [
      "\u001b[32m2025-02-16 16:42:40.993\u001b[0m | \u001b[1mINFO    \u001b[0m | \u001b[36mevoagentx.models.model_utils\u001b[0m:\u001b[36mupdate_siliconflow_cost\u001b[0m:\u001b[36m74\u001b[0m - \u001b[1mTotal cost: $0.00008000 | Total tokens: 34 | Current cost: $0.00004000 | Current tokens: 17\u001b[0m\n"
     ]
    },
    {
     "name": "stdout",
     "output_type": "stream",
     "text": [
      "Berlin\n"
     ]
    }
   ],
   "source": [
    "siliconflow_api_key = \"sk-vhxzxtorlkllodmmcthkhjiidjvnkkgpaliydwrdkrqzilpw\"\n",
    "\n",
    "model = SiliconFlow(config=SiliconFlowConfig(siliconflow_key=siliconflow_api_key,\n",
    "                                             model=\"deepseek-ai/DeepSeek-V3\"))\n",
    "\n",
    "# model.init_model()\n",
    "\n",
    "# model.single_generate(messages=[{'role': 'user', \n",
    "#                                  'content': \"what is the capital city of German. Only output the answer?\"}],\n",
    "#                      stream=False)\n",
    "output = model.generate(prompt=\"what is the capital city of German. Only output the answer.\")\n",
    "# model.generate_text(\"Hello, how are you?\")"
   ]
  },
  {
   "cell_type": "code",
   "execution_count": 7,
   "metadata": {},
   "outputs": [
    {
     "data": {
      "text/plain": [
       "0.00026019"
      ]
     },
     "execution_count": 7,
     "metadata": {},
     "output_type": "execute_result"
    }
   ],
   "source": [
    "63 * 4.13 / 1e6"
   ]
  },
  {
   "cell_type": "code",
   "execution_count": 4,
   "metadata": {},
   "outputs": [
    {
     "data": {
      "text/plain": [
       "{'prompt_tokens': 41, 'completion_tokens': 22, 'total_tokens': 63}"
      ]
     },
     "execution_count": 4,
     "metadata": {},
     "output_type": "execute_result"
    }
   ],
   "source": [
    "model.get_cost()"
   ]
  },
  {
   "cell_type": "code",
   "execution_count": 8,
   "metadata": {},
   "outputs": [
    {
     "name": "stdout",
     "output_type": "stream",
     "text": [
      "Hello! I'm an AI created by OpenAI, here to assist with answering questions, providing explanations, and helping with a wide range of topics. Feel free to ask me anything—I'm here to help! 😊"
     ]
    }
   ],
   "source": [
    "from openai import OpenAI\n",
    "import requests\n",
    "\n",
    "siliconflow_api_key = \"sk-vhxzxtorlkllodmmcthkhjiidjvnkkgpaliydwrdkrqzilpw\"\n",
    "\n",
    "client = OpenAI(api_key=siliconflow_api_key, base_url=\"https://api.siliconflow.cn/v1\")\n",
    "response = client.chat.completions.create(\n",
    "    model='deepseek-ai/DeepSeek-V3',\n",
    "    messages=[\n",
    "        {'role': 'user', \n",
    "        'content': \"Hello, who are you?\"}\n",
    "    ],\n",
    "    stream=True\n",
    ")\n",
    "\n",
    "for chunk in response:\n",
    "    print(chunk.choices[0].delta.content, end='')"
   ]
  },
  {
   "cell_type": "code",
   "execution_count": 1,
   "metadata": {},
   "outputs": [
    {
     "name": "stdout",
     "output_type": "stream",
     "text": [
      "Create a team of specialized AI agents to solve code generation challenges from the dataset described below. Each agent should have:\n",
      "- Clear role definition\n",
      "- Specific coding expertise\n",
      "- Collaboration mechanism\n",
      "\n",
      "Dataset Description: [Dataset Description Here]\n",
      "\n",
      "Output format:\n",
      "{\n",
      "  \"agents\": [\n",
      "    {\n",
      "      \"name\": \"Agent Name\",\n",
      "      \"role\": \"Specific responsibility\",\n",
      "      \"expertise\": \"Technical domain\",\n",
      "      \"tools\": [\"Relevant programming languages/frameworks\"]\n",
      "    }\n",
      "  ]\n",
      "}\n"
     ]
    }
   ],
   "source": [
    "print(\"Create a team of specialized AI agents to solve code generation challenges from the dataset described below. Each agent should have:\\n- Clear role definition\\n- Specific coding expertise\\n- Collaboration mechanism\\n\\nDataset Description: [Dataset Description Here]\\n\\nOutput format:\\n{\\n  \\\"agents\\\": [\\n    {\\n      \\\"name\\\": \\\"Agent Name\\\",\\n      \\\"role\\\": \\\"Specific responsibility\\\",\\n      \\\"expertise\\\": \\\"Technical domain\\\",\\n      \\\"tools\\\": [\\\"Relevant programming languages/frameworks\\\"]\\n    }\\n  ]\\n}\")"
   ]
  },
  {
   "cell_type": "code",
   "execution_count": 2,
   "metadata": {},
   "outputs": [
    {
     "name": "stdout",
     "output_type": "stream",
     "text": [
      "Implement an evolution mechanism for coding agents that:\n",
      "1. Analyzes past performance metrics\n",
      "2. Identifies improvement areas through error patterns\n",
      "3. Proposes skill upgrades based on emerging requirements\n",
      "4. Maintains version history of agent capabilities\n",
      "\n",
      "Evolution triggers:\n",
      "- New framework adoption\n",
      "- Efficiency benchmarks\n",
      "- User feedback patterns\n",
      "- Security vulnerability detection\n",
      "\n",
      "Output format:\n",
      "{\n",
      "  \"agent_name\": \"\",\n",
      "  \"current_version\": \"\",\n",
      "  \"improvement_areas\": [\n",
      "    {\n",
      "      \"metric\": \"\",\n",
      "      \"current_score\": 0,\n",
      "      \"target_score\": 0,\n",
      "      \"upgrade_strategy\": \"\"\n",
      "    }\n",
      "  ],\n",
      "  \"new_capabilities\": [\"\"],\n",
      "  \"deprecated_features\": [\"\"],\n",
      "  \"version_history\": [\n",
      "    {\n",
      "      \"version\": \"\",\n",
      "      \"changes\": \"\"\n",
      "    }\n",
      "  ]\n",
      "}\n"
     ]
    }
   ],
   "source": [
    "print(\"Implement an evolution mechanism for coding agents that:\\n1. Analyzes past performance metrics\\n2. Identifies improvement areas through error patterns\\n3. Proposes skill upgrades based on emerging requirements\\n4. Maintains version history of agent capabilities\\n\\nEvolution triggers:\\n- New framework adoption\\n- Efficiency benchmarks\\n- User feedback patterns\\n- Security vulnerability detection\\n\\nOutput format:\\n{\\n  \\\"agent_name\\\": \\\"\\\",\\n  \\\"current_version\\\": \\\"\\\",\\n  \\\"improvement_areas\\\": [\\n    {\\n      \\\"metric\\\": \\\"\\\",\\n      \\\"current_score\\\": 0,\\n      \\\"target_score\\\": 0,\\n      \\\"upgrade_strategy\\\": \\\"\\\"\\n    }\\n  ],\\n  \\\"new_capabilities\\\": [\\\"\\\"],\\n  \\\"deprecated_features\\\": [\\\"\\\"],\\n  \\\"version_history\\\": [\\n    {\\n      \\\"version\\\": \\\"\\\",\\n      \\\"changes\\\": \\\"\\\"\\n    }\\n  ]\\n}\")"
   ]
  },
  {
   "cell_type": "code",
   "execution_count": null,
   "metadata": {},
   "outputs": [],
   "source": []
  },
  {
   "cell_type": "code",
   "execution_count": null,
   "metadata": {},
   "outputs": [],
   "source": []
  },
  {
   "cell_type": "code",
   "execution_count": null,
   "metadata": {},
   "outputs": [],
   "source": []
  },
  {
   "cell_type": "code",
   "execution_count": null,
   "metadata": {},
   "outputs": [],
   "source": []
  }
 ],
 "metadata": {
  "kernelspec": {
   "display_name": "memgpt",
   "language": "python",
   "name": "python3"
  },
  "language_info": {
   "codemirror_mode": {
    "name": "ipython",
    "version": 3
   },
   "file_extension": ".py",
   "mimetype": "text/x-python",
   "name": "python",
   "nbconvert_exporter": "python",
   "pygments_lexer": "ipython3",
   "version": "3.10.14"
  }
 },
 "nbformat": 4,
 "nbformat_minor": 2
}
